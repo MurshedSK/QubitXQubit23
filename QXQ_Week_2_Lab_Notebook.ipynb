{
  "nbformat": 4,
  "nbformat_minor": 0,
  "metadata": {
    "colab": {
      "provenance": [],
      "include_colab_link": true
    },
    "kernelspec": {
      "name": "python3",
      "display_name": "Python 3"
    },
    "language_info": {
      "name": "python"
    }
  },
  "cells": [
    {
      "cell_type": "markdown",
      "metadata": {
        "id": "view-in-github",
        "colab_type": "text"
      },
      "source": [
        "<a href=\"https://colab.research.google.com/github/MurshedSK/QubitXQubit23/blob/main/QXQ_Week_2_Lab_Notebook.ipynb\" target=\"_parent\"><img src=\"https://colab.research.google.com/assets/colab-badge.svg\" alt=\"Open In Colab\"/></a>"
      ]
    },
    {
      "cell_type": "markdown",
      "source": [
        "# **Lab 2: Python Basics I**\n",
        "---\n",
        "\n",
        "### **Description**\n",
        "In this lab, we will familiarize ourselves with Google Colab. We will also begin to develop the necessary Python skills and foundation, paving the way for success in our upcoming quantum computing course.\n",
        "\n",
        "<br>\n",
        "\n",
        "### **Structure**\n",
        "**Part 1**: [Getting Familiar with Google Colab](#p1)\n",
        "\n",
        "**Part 2**: [Arithmetic Operators](#p2)\n",
        "\n",
        "**Part 3**: [Variables](#p3)\n",
        "\n",
        "**Part 4**: [Additional Practice [OPTIONAL]](#p4)\n",
        ">\n",
        "> **Part 4.1**: [Arithmetic Operators](#p4.1)\n",
        ">\n",
        "> **Part 4.2**: [Variables](#p4.2)\n",
        "\n",
        "\n",
        "<br>\n",
        "\n",
        "### **Learning Objectives**\n",
        "By the end of this lab, we will:\n",
        "* Recognize the definition/framework of objects and attributes.\n",
        "* Recognize the main data types and how to modify them with basic arithmetic operators (+, -, /, *).\n",
        "* Recognize that variables are a way to store objects.\n",
        "\n",
        "\n",
        "<br>\n",
        "\n",
        "### **Resources**\n",
        "* [Python Basics Cheat Sheet](https://docs.google.com/document/d/1uLao-xKh3tYIiCYyiqf7oas4qTlr5XYKQ0QpzX_Xzag/edit?usp=sharing)"
      ],
      "metadata": {
        "id": "K3JVwUgVElwe"
      }
    },
    {
      "cell_type": "markdown",
      "source": [
        "<a name=\"p1\"></a>\n",
        "\n",
        "---\n",
        "## **Part 1: Getting Familiar with Google Colab**\n",
        "---"
      ],
      "metadata": {
        "id": "vFusVI8O6sd-"
      }
    },
    {
      "cell_type": "markdown",
      "source": [
        "#### **Problem #1.1**\n",
        "\n",
        "**Together**, let's change the title of our notebook. Rename the notebook to \"QXQ Week 1 Lab Notebook\"."
      ],
      "metadata": {
        "id": "4EgRMGgY7J-X"
      }
    },
    {
      "cell_type": "markdown",
      "source": [
        "#### **Problem #1.2**\n",
        "\n",
        "**Together**, let's create a new text cell and type: \"This is a text cell.\""
      ],
      "metadata": {
        "id": "1977NXTR78g_"
      }
    },
    {
      "cell_type": "markdown",
      "source": [
        "\n",
        "\"This is a text cell.\"\n",
        "\n",
        "\n",
        "\n",
        "\n"
      ],
      "metadata": {
        "id": "ylzzpEMLT3qZ"
      }
    },
    {
      "cell_type": "markdown",
      "source": [
        "#### **Problem #1.3**\n",
        "\n",
        "**Together**, let's create a new code cell and type: \"This is a code cell.\""
      ],
      "metadata": {
        "id": "7EcHRNJt8QaH"
      }
    },
    {
      "cell_type": "code",
      "source": [
        "\"This is a code cell.\""
      ],
      "metadata": {
        "colab": {
          "base_uri": "https://localhost:8080/",
          "height": 36
        },
        "id": "M6SXQfoTUFXb",
        "outputId": "7ed00ccf-5a8c-4295-9139-0efdc9c10fcf"
      },
      "execution_count": 1,
      "outputs": [
        {
          "output_type": "execute_result",
          "data": {
            "text/plain": [
              "'This is a code cell.'"
            ],
            "application/vnd.google.colaboratory.intrinsic+json": {
              "type": "string"
            }
          },
          "metadata": {},
          "execution_count": 1
        }
      ]
    },
    {
      "cell_type": "markdown",
      "source": [
        "#### **Problem #1.4**\n",
        "\n",
        "**Together**, let's run the code cell below."
      ],
      "metadata": {
        "id": "Lgm13Kns8Vzi"
      }
    },
    {
      "cell_type": "code",
      "source": [
        "\"Hello World!\""
      ],
      "metadata": {
        "id": "se-uUU8bE-Gn",
        "colab": {
          "base_uri": "https://localhost:8080/",
          "height": 36
        },
        "outputId": "d24a2245-b01c-4978-bbee-7cc65f44442f"
      },
      "execution_count": 2,
      "outputs": [
        {
          "output_type": "execute_result",
          "data": {
            "text/plain": [
              "'Hello World!'"
            ],
            "application/vnd.google.colaboratory.intrinsic+json": {
              "type": "string"
            }
          },
          "metadata": {},
          "execution_count": 2
        }
      ]
    },
    {
      "cell_type": "markdown",
      "source": [
        "---\n",
        "\n",
        "<center>\n",
        "\n",
        "#### **Wait for Your Instructor to Continue**\n",
        "\n",
        "---"
      ],
      "metadata": {
        "id": "0EOWYdxhTiki"
      }
    },
    {
      "cell_type": "markdown",
      "source": [
        "<a name=\"p2\"></a>\n",
        "\n",
        "---\n",
        "## **Part 2: Arithmetic Operators**\n",
        "---"
      ],
      "metadata": {
        "id": "H5MIexSZviqM"
      }
    },
    {
      "cell_type": "markdown",
      "source": [
        "#### **Problem #2.1**\n",
        "\n",
        "**Together**, let's add the ints 3 and 2."
      ],
      "metadata": {
        "id": "Nkrwij4gSu0h"
      }
    },
    {
      "cell_type": "code",
      "source": [
        "# 3 +  # COMPLETE THIS CODE\n",
        "3+2"
      ],
      "metadata": {
        "id": "rwGjkCmrT8cp",
        "colab": {
          "base_uri": "https://localhost:8080/"
        },
        "outputId": "c0cb25e7-d160-4b3f-92fd-6174874628bb"
      },
      "execution_count": 5,
      "outputs": [
        {
          "output_type": "execute_result",
          "data": {
            "text/plain": [
              "5"
            ]
          },
          "metadata": {},
          "execution_count": 5
        }
      ]
    },
    {
      "cell_type": "markdown",
      "source": [
        "#### **Problem #2.2**\n",
        "\n",
        "**Together**, let's add 7.0 and 2.0."
      ],
      "metadata": {
        "id": "TMg9xuU4bGXO"
      }
    },
    {
      "cell_type": "code",
      "source": [
        "# 7.0 + # COMPLETE THIS CODE\n",
        "7.0 + 2.0"
      ],
      "metadata": {
        "id": "gxuz6DBtbS4b",
        "colab": {
          "base_uri": "https://localhost:8080/"
        },
        "outputId": "e048eb02-83f6-4bbc-b7c7-2eca8759f556"
      },
      "execution_count": 7,
      "outputs": [
        {
          "output_type": "execute_result",
          "data": {
            "text/plain": [
              "9.0"
            ]
          },
          "metadata": {},
          "execution_count": 7
        }
      ]
    },
    {
      "cell_type": "markdown",
      "source": [
        "#### **Problem #2.3**\n",
        "\n",
        "**Together**, let's divide 23 by 2."
      ],
      "metadata": {
        "id": "AoNyZMOLbHzG"
      }
    },
    {
      "cell_type": "code",
      "source": [
        "# COMPLETE THIS CODE\n",
        "23/2"
      ],
      "metadata": {
        "id": "2qLvU5ArbX9e",
        "colab": {
          "base_uri": "https://localhost:8080/"
        },
        "outputId": "dea76134-9806-4d05-8e5a-4f6130570514"
      },
      "execution_count": 8,
      "outputs": [
        {
          "output_type": "execute_result",
          "data": {
            "text/plain": [
              "11.5"
            ]
          },
          "metadata": {},
          "execution_count": 8
        }
      ]
    },
    {
      "cell_type": "markdown",
      "source": [
        "#### **Problem #2.4**\n",
        "\n",
        "**Together**, let's multiply 24.0 and 25.4."
      ],
      "metadata": {
        "id": "MAhg9IhNbIW9"
      }
    },
    {
      "cell_type": "code",
      "source": [
        "# COMPLETE THIS CODE\n",
        "24.0 * 25.4"
      ],
      "metadata": {
        "id": "vQouy4o_brEN",
        "colab": {
          "base_uri": "https://localhost:8080/"
        },
        "outputId": "7b5ee92e-5787-4f07-9115-c8bea1c7bae5"
      },
      "execution_count": 9,
      "outputs": [
        {
          "output_type": "execute_result",
          "data": {
            "text/plain": [
              "609.5999999999999"
            ]
          },
          "metadata": {},
          "execution_count": 9
        }
      ]
    },
    {
      "cell_type": "markdown",
      "source": [
        "---\n",
        "\n",
        "#### **Now it's your turn! Try Problems #2.5 - 2.7 on your own.**\n",
        "\n",
        "---"
      ],
      "metadata": {
        "id": "Ttxn0Y39k4mS"
      }
    },
    {
      "cell_type": "markdown",
      "source": [
        "#### **Problem #2.5**\n",
        "\n",
        "**Independently**, add 13 and 27."
      ],
      "metadata": {
        "id": "bAfEeCA5gwqX"
      }
    },
    {
      "cell_type": "code",
      "source": [
        "# COMPLETE THIS CODE\n",
        "13 + 27"
      ],
      "metadata": {
        "id": "nlNB4BF_jsEt",
        "colab": {
          "base_uri": "https://localhost:8080/"
        },
        "outputId": "e64400c8-829c-4d35-b2ed-c3485e6706d9"
      },
      "execution_count": 10,
      "outputs": [
        {
          "output_type": "execute_result",
          "data": {
            "text/plain": [
              "40"
            ]
          },
          "metadata": {},
          "execution_count": 10
        }
      ]
    },
    {
      "cell_type": "markdown",
      "source": [
        "#### **Problem #2.6**\n",
        "\n",
        "**Independently**, multiply 1000 and 3000.5."
      ],
      "metadata": {
        "id": "d_U6ur7jgxTk"
      }
    },
    {
      "cell_type": "code",
      "source": [
        "# COMPLETE THIS CODE\n",
        "1000 * 3000.5"
      ],
      "metadata": {
        "id": "i3mHYwJaj02C",
        "colab": {
          "base_uri": "https://localhost:8080/"
        },
        "outputId": "8aba43f0-daa6-4a3a-fc6b-aeaa78382b15"
      },
      "execution_count": 11,
      "outputs": [
        {
          "output_type": "execute_result",
          "data": {
            "text/plain": [
              "3000500.0"
            ]
          },
          "metadata": {},
          "execution_count": 11
        }
      ]
    },
    {
      "cell_type": "markdown",
      "source": [
        "#### **Problem #2.7**\n",
        "\n",
        "**Independently**, divide 250 by 50."
      ],
      "metadata": {
        "id": "JbFm4hjKgxfX"
      }
    },
    {
      "cell_type": "code",
      "source": [
        "# COMPLETE THIS CODE\n",
        "250/50"
      ],
      "metadata": {
        "id": "NCZtaMI1jF4r",
        "colab": {
          "base_uri": "https://localhost:8080/"
        },
        "outputId": "6851b5c4-d66c-4bf6-c1b4-af7420634211"
      },
      "execution_count": 12,
      "outputs": [
        {
          "output_type": "execute_result",
          "data": {
            "text/plain": [
              "5.0"
            ]
          },
          "metadata": {},
          "execution_count": 12
        }
      ]
    },
    {
      "cell_type": "markdown",
      "source": [
        "---\n",
        "\n",
        "<center>\n",
        "\n",
        "#### **Wait for Your Instructor to Continue**\n",
        "\n",
        "---"
      ],
      "metadata": {
        "id": "AzaGwjHOX9Ou"
      }
    },
    {
      "cell_type": "markdown",
      "source": [
        "<a name=\"p3\"></a>\n",
        "\n",
        "---\n",
        "## **Part 3: Variables**\n",
        "---"
      ],
      "metadata": {
        "id": "8ZlKbmO6kmGl"
      }
    },
    {
      "cell_type": "markdown",
      "source": [
        "#### **Problem #3.1**\n",
        "\n",
        "**Together**, let's create a variable called `my_school` and assign a string (anything inside quotes: `\"...\"`) to it with your school's name.\n",
        "\n",
        "<br>\n",
        "\n",
        "**NOTE**: We will output the variable's value by writing the name on a line of its own."
      ],
      "metadata": {
        "id": "6tp4GH_pFiXc"
      }
    },
    {
      "cell_type": "code",
      "source": [
        "'''my_school = \"# COMPLETE THIS CODE\n",
        "\n",
        "my_school'''\n",
        "\n",
        "my_school = \"QubitXQubit\"\n",
        "\n",
        "my_school"
      ],
      "metadata": {
        "id": "dIcO-GzF7jnH",
        "colab": {
          "base_uri": "https://localhost:8080/",
          "height": 36
        },
        "outputId": "8526f4d3-7580-4548-9686-c63cb7079fa7"
      },
      "execution_count": 14,
      "outputs": [
        {
          "output_type": "execute_result",
          "data": {
            "text/plain": [
              "'QubitXQubit'"
            ],
            "application/vnd.google.colaboratory.intrinsic+json": {
              "type": "string"
            }
          },
          "metadata": {},
          "execution_count": 14
        }
      ]
    },
    {
      "cell_type": "markdown",
      "source": [
        "#### **Problem #3.2**\n",
        "\n",
        "**Together**, let's create and name a variable with your favorite number as an integer. Output its value."
      ],
      "metadata": {
        "id": "GeA492pRF9Et"
      }
    },
    {
      "cell_type": "code",
      "source": [
        "# COMPLETE THIS CODE\n",
        "fav_num = 23\n",
        "fav_num"
      ],
      "metadata": {
        "id": "BcaGXsBo7qys",
        "colab": {
          "base_uri": "https://localhost:8080/"
        },
        "outputId": "24b46cd9-476c-481e-c155-0d19b76d89a9"
      },
      "execution_count": 17,
      "outputs": [
        {
          "output_type": "execute_result",
          "data": {
            "text/plain": [
              "23"
            ]
          },
          "metadata": {},
          "execution_count": 17
        }
      ]
    },
    {
      "cell_type": "markdown",
      "source": [
        "---\n",
        "\n",
        "#### **Now it's your turn! Try Problems #3.3 - 3.4 on your own.**\n",
        "\n",
        "---"
      ],
      "metadata": {
        "id": "jK_9G-b4Thcu"
      }
    },
    {
      "cell_type": "markdown",
      "source": [
        "#### **Problem #3.3**\n",
        "\n",
        "**Independently**, create and name a variable with your favorite number as a float. Output its value."
      ],
      "metadata": {
        "id": "PFzpApaisZj3"
      }
    },
    {
      "cell_type": "code",
      "source": [
        "# COMPLETE THIS CODE\n",
        "fav_num2 = 78\n",
        "fav_num2"
      ],
      "metadata": {
        "id": "TJ1lbMmBseNz",
        "colab": {
          "base_uri": "https://localhost:8080/"
        },
        "outputId": "eb2d4c6b-94f1-4cfc-bc2d-6593bf84a1e7"
      },
      "execution_count": 19,
      "outputs": [
        {
          "output_type": "execute_result",
          "data": {
            "text/plain": [
              "78"
            ]
          },
          "metadata": {},
          "execution_count": 19
        }
      ]
    },
    {
      "cell_type": "markdown",
      "source": [
        "#### **Problem #3.4**\n",
        "\n",
        "**Independently**, look through the given declarations and determine which ones are incorrect?\n",
        "\n",
        "a. `Var1 = 7`\n",
        "\n",
        "b. `VAR5 = 8`\n",
        "\n",
        "c. `2var = 92`\n",
        "\n",
        "d. `first_last_name = \"james gooding\"`\n",
        "\n",
        "e. `Hello! = 0.283`\n",
        "\n",
        "f. `variable24 = \"my favorite food is\"`\n",
        "\n",
        "g. `str = \"string\"`\n",
        "\n"
      ],
      "metadata": {
        "id": "idKFoy5PGMXj"
      }
    },
    {
      "cell_type": "markdown",
      "source": [
        "**Double Click This Cell To Enter Your Answer(s)**"
      ],
      "metadata": {
        "id": "89W-6XfL8bnJ"
      }
    },
    {
      "cell_type": "markdown",
      "source": [
        "---\n",
        "\n",
        "<center>\n",
        "\n",
        "#### **Wait for Your Instructor to Continue**\n",
        "\n",
        "---"
      ],
      "metadata": {
        "id": "DTTEvh3zX_WK"
      }
    },
    {
      "cell_type": "markdown",
      "source": [
        "<a name=\"p4\"></a>\n",
        "\n",
        "---\n",
        "## **Part 4: Additional Practice [OPTIONAL]**\n",
        "---"
      ],
      "metadata": {
        "id": "x27tcYeFr0ps"
      }
    },
    {
      "cell_type": "markdown",
      "source": [
        "<a name=\"p4.1\"></a>\n",
        "\n",
        "---\n",
        "### **Part 4.1: Arithmetic Operators**\n",
        "---"
      ],
      "metadata": {
        "id": "yhhNVj8tszfa"
      }
    },
    {
      "cell_type": "markdown",
      "source": [
        "#### **Problem #4.1.1**\n",
        "\n",
        "Calculate 5 divided by 2."
      ],
      "metadata": {
        "id": "3UHFE0F-r_AY"
      }
    },
    {
      "cell_type": "code",
      "source": [
        "# COMPLETE THIS CODE\n",
        "5/2"
      ],
      "metadata": {
        "id": "0gTl9x12r_AZ",
        "colab": {
          "base_uri": "https://localhost:8080/"
        },
        "outputId": "d40df902-c8cb-436f-a4bc-48df75fd962e"
      },
      "execution_count": 20,
      "outputs": [
        {
          "output_type": "execute_result",
          "data": {
            "text/plain": [
              "2.5"
            ]
          },
          "metadata": {},
          "execution_count": 20
        }
      ]
    },
    {
      "cell_type": "markdown",
      "source": [
        "#### **Problem #4.1.2**\n",
        "\n",
        "Calculate 50 divided by 2."
      ],
      "metadata": {
        "id": "-Op2trMwsNTO"
      }
    },
    {
      "cell_type": "code",
      "source": [
        "# COMPLETE THIS CODE\n",
        "50/2"
      ],
      "metadata": {
        "id": "r8PUMKhbsNTP",
        "colab": {
          "base_uri": "https://localhost:8080/"
        },
        "outputId": "59f0ece9-dd11-487f-8563-986ed0299ec0"
      },
      "execution_count": 21,
      "outputs": [
        {
          "output_type": "execute_result",
          "data": {
            "text/plain": [
              "25.0"
            ]
          },
          "metadata": {},
          "execution_count": 21
        }
      ]
    },
    {
      "cell_type": "markdown",
      "source": [
        "#### **Problem #4.1.3**\n",
        "\n",
        "Calculate 28 multiplied by 1995."
      ],
      "metadata": {
        "id": "bgSOjzrtsVPZ"
      }
    },
    {
      "cell_type": "code",
      "source": [
        "# COMPLETE THIS CODE\n",
        "28* 1995"
      ],
      "metadata": {
        "id": "wx4fZWNnsVPa",
        "colab": {
          "base_uri": "https://localhost:8080/"
        },
        "outputId": "b94e38df-d17a-4ab2-95c5-408006dc78c7"
      },
      "execution_count": 23,
      "outputs": [
        {
          "output_type": "execute_result",
          "data": {
            "text/plain": [
              "55860"
            ]
          },
          "metadata": {},
          "execution_count": 23
        }
      ]
    },
    {
      "cell_type": "markdown",
      "source": [
        "#### **Problem #4.1.4**\n",
        "\n",
        "Calculate 3 squared."
      ],
      "metadata": {
        "id": "amw5Yd8xsbfR"
      }
    },
    {
      "cell_type": "code",
      "source": [
        "# COMPLETE THIS CODE\n",
        "3**2"
      ],
      "metadata": {
        "id": "O1kUtqUisbfT",
        "colab": {
          "base_uri": "https://localhost:8080/"
        },
        "outputId": "3ac0eefc-5a77-4b1e-b532-5cf7c9825e2f"
      },
      "execution_count": 24,
      "outputs": [
        {
          "output_type": "execute_result",
          "data": {
            "text/plain": [
              "9"
            ]
          },
          "metadata": {},
          "execution_count": 24
        }
      ]
    },
    {
      "cell_type": "markdown",
      "source": [
        "#### **Problem #4.1.5**\n",
        "\n",
        "Calculate 2 to the 10th power minus 5."
      ],
      "metadata": {
        "id": "ixi0A-EKslsg"
      }
    },
    {
      "cell_type": "code",
      "source": [
        "# COMPLETE THIS CODE\n",
        "2**(10) - 5"
      ],
      "metadata": {
        "id": "JgEGihlislsg",
        "colab": {
          "base_uri": "https://localhost:8080/"
        },
        "outputId": "c96e1305-43cd-435b-d587-8d5c62845c9b"
      },
      "execution_count": 25,
      "outputs": [
        {
          "output_type": "execute_result",
          "data": {
            "text/plain": [
              "1019"
            ]
          },
          "metadata": {},
          "execution_count": 25
        }
      ]
    },
    {
      "cell_type": "markdown",
      "source": [
        "<a name=\"p4.2\"></a>\n",
        "\n",
        "---\n",
        "### **Part 4.2: Variables**\n",
        "---"
      ],
      "metadata": {
        "id": "4MoSMLBItCdo"
      }
    },
    {
      "cell_type": "markdown",
      "source": [
        "#### **Problem #4.2.1**\n",
        "\n",
        "Create a variable named `favorite_animal` and assign a string to it of your favorite animal. Output its value."
      ],
      "metadata": {
        "id": "DNQ0uGTgtCd0"
      }
    },
    {
      "cell_type": "code",
      "source": [
        "# COMPLETE THIS CODE\n",
        "favorite_animal = \"goat kid\"\n",
        "favorite_animal"
      ],
      "metadata": {
        "id": "RGutT2VXtCd0",
        "colab": {
          "base_uri": "https://localhost:8080/",
          "height": 36
        },
        "outputId": "82bf2cfb-002d-4338-fb83-da9b036b9e22"
      },
      "execution_count": 27,
      "outputs": [
        {
          "output_type": "execute_result",
          "data": {
            "text/plain": [
              "'goat kid'"
            ],
            "application/vnd.google.colaboratory.intrinsic+json": {
              "type": "string"
            }
          },
          "metadata": {},
          "execution_count": 27
        }
      ]
    },
    {
      "cell_type": "markdown",
      "source": [
        "#### **Problem #4.2.2**\n",
        "\n",
        "Create a variable called `problem_number` and assign the float `4.22` to it. Output its value."
      ],
      "metadata": {
        "id": "qEeBTTwhtCd2"
      }
    },
    {
      "cell_type": "code",
      "source": [
        "# COMPLETE THIS CODE\n",
        "problem_number = 4.22\n",
        "problem_number"
      ],
      "metadata": {
        "id": "GzcVlThPtCd2",
        "colab": {
          "base_uri": "https://localhost:8080/"
        },
        "outputId": "4ead6c0a-a0df-468a-e4b9-0c81aae20bcf"
      },
      "execution_count": 28,
      "outputs": [
        {
          "output_type": "execute_result",
          "data": {
            "text/plain": [
              "4.22"
            ]
          },
          "metadata": {},
          "execution_count": 28
        }
      ]
    },
    {
      "cell_type": "markdown",
      "source": [
        "#### **Problem #4.2.3**\n",
        "\n",
        "Create a variable called `next_problem_number` and assign the result of adding `problem_number` and 0.01. Output its value."
      ],
      "metadata": {
        "id": "foTpdnTStCd1"
      }
    },
    {
      "cell_type": "code",
      "source": [
        "# COMPLETE THIS CODE\n",
        "next_problem_number = problem_number + 0.01\n",
        "next_problem_number\n"
      ],
      "metadata": {
        "id": "r3pRvWxwtCd2",
        "colab": {
          "base_uri": "https://localhost:8080/"
        },
        "outputId": "3f00f793-b1a9-4879-ac00-646db20bdff8"
      },
      "execution_count": 30,
      "outputs": [
        {
          "output_type": "execute_result",
          "data": {
            "text/plain": [
              "4.2299999999999995"
            ]
          },
          "metadata": {},
          "execution_count": 30
        }
      ]
    },
    {
      "cell_type": "markdown",
      "source": [
        "#### **Problem #4.2.4**\n",
        "\n",
        "Create a variable named `my_age` and assign an int with your age to it. Output its value."
      ],
      "metadata": {
        "id": "j9LT67KptCd1"
      }
    },
    {
      "cell_type": "code",
      "source": [
        "# COMPLETE THIS CODE\n",
        "my_age  = 22\n",
        "my_age"
      ],
      "metadata": {
        "id": "9M1RGVVZtCd1",
        "colab": {
          "base_uri": "https://localhost:8080/"
        },
        "outputId": "7fa302b4-73d7-4c3b-c25e-02c69028a243"
      },
      "execution_count": 32,
      "outputs": [
        {
          "output_type": "execute_result",
          "data": {
            "text/plain": [
              "22"
            ]
          },
          "metadata": {},
          "execution_count": 32
        }
      ]
    },
    {
      "cell_type": "markdown",
      "source": [
        "#### **Problem #4.2.5**\n",
        "\n",
        "Create a variable named `my_age_in_months` that is equal to `my_age` multiplied by 12. Output its value."
      ],
      "metadata": {
        "id": "219fzMgitCd1"
      }
    },
    {
      "cell_type": "code",
      "source": [
        "# COMPLETE THIS CODE\n",
        "my_age_in_months = my_age * 12\n",
        "my_age_in_months"
      ],
      "metadata": {
        "id": "Tf5uJpXftCd1",
        "colab": {
          "base_uri": "https://localhost:8080/"
        },
        "outputId": "d205567e-9cfc-4092-b558-685834255c57"
      },
      "execution_count": 33,
      "outputs": [
        {
          "output_type": "execute_result",
          "data": {
            "text/plain": [
              "264"
            ]
          },
          "metadata": {},
          "execution_count": 33
        }
      ]
    },
    {
      "cell_type": "markdown",
      "source": [
        "# End of notebook\n",
        "---\n",
        "© 2023 The Coding School, All rights reserved"
      ],
      "metadata": {
        "id": "LMrbwMSsoWtN"
      }
    }
  ]
}