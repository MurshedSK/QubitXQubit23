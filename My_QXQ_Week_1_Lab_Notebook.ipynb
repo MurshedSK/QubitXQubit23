{
  "nbformat": 4,
  "nbformat_minor": 0,
  "metadata": {
    "colab": {
      "provenance": [],
      "include_colab_link": true
    },
    "kernelspec": {
      "name": "python3",
      "display_name": "Python 3"
    },
    "language_info": {
      "name": "python"
    }
  },
  "cells": [
    {
      "cell_type": "markdown",
      "metadata": {
        "id": "view-in-github",
        "colab_type": "text"
      },
      "source": [
        "<a href=\"https://colab.research.google.com/github/MurshedSK/QubitXQubit23/blob/main/My_QXQ_Week_1_Lab_Notebook.ipynb\" target=\"_parent\"><img src=\"https://colab.research.google.com/assets/colab-badge.svg\" alt=\"Open In Colab\"/></a>"
      ]
    },
    {
      "cell_type": "markdown",
      "source": [
        "# **Lab 1: Orientation**\n",
        "---\n",
        "\n",
        "### **Description**\n",
        "In this lab, we will familiarize ourselves with Google Colab.\n",
        "\n",
        "<br>\n",
        "\n",
        "### **Structure**\n",
        "**Part 1**: [Getting Familiar with Google Colab](#p1)\n",
        "\n",
        "**Part 2**: [Reading and Modifying Code](#p2)\n",
        "\n",
        "\n",
        "\n",
        "<br>\n",
        "\n",
        "### **Learning Objectives**\n",
        "By the end of this lab, we will:\n",
        "* Recognize how to use Google Colab to write and execute code.\n",
        "\n"
      ],
      "metadata": {
        "id": "K3JVwUgVElwe"
      }
    },
    {
      "cell_type": "markdown",
      "source": [
        "<a name=\"p1\"></a>\n",
        "\n",
        "---\n",
        "##**Part 1: Getting Familiar with Google Colab**\n",
        "---"
      ],
      "metadata": {
        "id": "vFusVI8O6sd-"
      }
    },
    {
      "cell_type": "markdown",
      "source": [
        "#### **Problem #1.1**\n",
        "\n",
        "**Together**, let's change the title of our notebook. Rename the notebook to \"My QXQ Week 1 Lab Notebook\"."
      ],
      "metadata": {
        "id": "4EgRMGgY7J-X"
      }
    },
    {
      "cell_type": "markdown",
      "source": [
        "#### **Problem #1.2**\n",
        "\n",
        "**Together**, let's create a new text cell and type: \"This is a text cell.\""
      ],
      "metadata": {
        "id": "1977NXTR78g_"
      }
    },
    {
      "cell_type": "markdown",
      "source": [
        "\"This is a text cell.\""
      ],
      "metadata": {
        "id": "jHbbKO85RQoJ"
      }
    },
    {
      "cell_type": "markdown",
      "source": [
        "#### **Problem #1.3**\n",
        "\n",
        "**Together**, let's create a new code cell and type: \"This is a code cell.\""
      ],
      "metadata": {
        "id": "7EcHRNJt8QaH"
      }
    },
    {
      "cell_type": "code",
      "source": [
        " \"This is a code cell.\""
      ],
      "metadata": {
        "colab": {
          "base_uri": "https://localhost:8080/",
          "height": 36
        },
        "id": "bYSo5IEIRXzS",
        "outputId": "fff44847-75a9-46a1-b98b-285b38ac0d86"
      },
      "execution_count": 1,
      "outputs": [
        {
          "output_type": "execute_result",
          "data": {
            "text/plain": [
              "'This is a code cell.'"
            ],
            "application/vnd.google.colaboratory.intrinsic+json": {
              "type": "string"
            }
          },
          "metadata": {},
          "execution_count": 1
        }
      ]
    },
    {
      "cell_type": "markdown",
      "source": [
        "#### **Problem #1.4**\n",
        "\n",
        "**Together**, let's run the code cell below."
      ],
      "metadata": {
        "id": "Lgm13Kns8Vzi"
      }
    },
    {
      "cell_type": "code",
      "source": [
        "\"Hello World!\""
      ],
      "metadata": {
        "id": "se-uUU8bE-Gn",
        "colab": {
          "base_uri": "https://localhost:8080/",
          "height": 36
        },
        "outputId": "dfcd4a65-b59f-4e54-f95c-c430c930e536"
      },
      "execution_count": 2,
      "outputs": [
        {
          "output_type": "execute_result",
          "data": {
            "text/plain": [
              "'Hello World!'"
            ],
            "application/vnd.google.colaboratory.intrinsic+json": {
              "type": "string"
            }
          },
          "metadata": {},
          "execution_count": 2
        }
      ]
    },
    {
      "cell_type": "markdown",
      "source": [
        "---\n",
        "\n",
        "<center>\n",
        "\n",
        "#### **Wait for Your Instructor to Continue**\n",
        "\n",
        "---"
      ],
      "metadata": {
        "id": "0EOWYdxhTiki"
      }
    },
    {
      "cell_type": "markdown",
      "source": [
        "<a name=\"p2\"></a>\n",
        "\n",
        "---\n",
        "##**Part 2: Reading and Modifying Code**\n",
        "---"
      ],
      "metadata": {
        "id": "VeQYlCX4wJ3z"
      }
    },
    {
      "cell_type": "markdown",
      "source": [
        "#### **Problem #2.1**\n",
        "\n",
        "**Together**, let's modify the value of the `color` variable so that it prints: \"My favorite color is green\""
      ],
      "metadata": {
        "id": "-tQi-Wr84P0Z"
      }
    },
    {
      "cell_type": "code",
      "source": [
        "color = 'green'\n",
        "\n",
        "print(\"My favorite color is\", color)"
      ],
      "metadata": {
        "id": "BkJ4lcps4P0a",
        "colab": {
          "base_uri": "https://localhost:8080/"
        },
        "outputId": "b94552aa-2517-45b3-f68a-8076425433e5"
      },
      "execution_count": 3,
      "outputs": [
        {
          "output_type": "stream",
          "name": "stdout",
          "text": [
            "My favorite color is green\n"
          ]
        }
      ]
    },
    {
      "cell_type": "markdown",
      "source": [
        "#### **Problem #2.2**\n",
        "\n",
        "**Together**, let's modify the code below to calculate the circumference of a circle with a radius of 10."
      ],
      "metadata": {
        "id": "dtWu62M4wJ4A"
      }
    },
    {
      "cell_type": "code",
      "source": [
        "radius = 10\n",
        "circumference = 2 * 3.14 * radius\n",
        "print(circumference)"
      ],
      "metadata": {
        "id": "_VDZteP43Ahk",
        "colab": {
          "base_uri": "https://localhost:8080/"
        },
        "outputId": "028afbbb-ebd7-4226-9fe3-0e21d8541066"
      },
      "execution_count": 4,
      "outputs": [
        {
          "output_type": "stream",
          "name": "stdout",
          "text": [
            "62.800000000000004\n"
          ]
        }
      ]
    },
    {
      "cell_type": "markdown",
      "source": [
        "#### **Problem #2.3**\n",
        "\n",
        "**Together**, let's modify the `name` variable so that it stores our name."
      ],
      "metadata": {
        "id": "ER5diAO04OKl"
      }
    },
    {
      "cell_type": "code",
      "source": [
        "name = 'MURSHED'\n",
        "print(\"My name is \" + name)"
      ],
      "metadata": {
        "id": "SbFaL4wM4OKx",
        "colab": {
          "base_uri": "https://localhost:8080/"
        },
        "outputId": "33cb9c4b-cfd5-4a8a-e85c-9ab342779552"
      },
      "execution_count": 5,
      "outputs": [
        {
          "output_type": "stream",
          "name": "stdout",
          "text": [
            "My name is MURSHED\n"
          ]
        }
      ]
    },
    {
      "cell_type": "markdown",
      "source": [
        "---\n",
        "\n",
        "#### **Now it's your turn! Try Problems #2.4 - 2.5 on your own.**\n",
        "\n",
        "---"
      ],
      "metadata": {
        "id": "i4KrGzf_5U8p"
      }
    },
    {
      "cell_type": "markdown",
      "source": [
        "#### **Problem #2.4**\n",
        "\n",
        "**Independently**, modify the value of y so that the result becomes 20."
      ],
      "metadata": {
        "id": "qX0JfaFswJ4B"
      }
    },
    {
      "cell_type": "code",
      "source": [
        "x = 10\n",
        "y = 10\n",
        "result = x + y\n",
        "print(result)"
      ],
      "metadata": {
        "id": "CG4Svia5wJ4B",
        "colab": {
          "base_uri": "https://localhost:8080/"
        },
        "outputId": "8ac55761-d604-40aa-bf36-f34874fc3821"
      },
      "execution_count": 6,
      "outputs": [
        {
          "output_type": "stream",
          "name": "stdout",
          "text": [
            "20\n"
          ]
        }
      ]
    },
    {
      "cell_type": "markdown",
      "source": [
        "#### **Problem #2.5**\n",
        "\n",
        "**Independently**, modify the code below to calculate the area of a triangle with a base of 10 and a height of 12."
      ],
      "metadata": {
        "id": "Tye-OC_E355_"
      }
    },
    {
      "cell_type": "code",
      "source": [
        "base = 10\n",
        "height = 12\n",
        "area_of_triangle = 0.5 * base * height\n",
        "print(area_of_triangle)"
      ],
      "metadata": {
        "id": "VB362cPh356A",
        "colab": {
          "base_uri": "https://localhost:8080/"
        },
        "outputId": "1e81b9f7-ca9c-4381-db89-ded5e84b7c5f"
      },
      "execution_count": 7,
      "outputs": [
        {
          "output_type": "stream",
          "name": "stdout",
          "text": [
            "60.0\n"
          ]
        }
      ]
    },
    {
      "cell_type": "markdown",
      "source": [
        "#End of notebook\n",
        "---\n",
        "© 2023 The Coding School, All rights reserved"
      ],
      "metadata": {
        "id": "ZjjNOmiT5bPH"
      }
    }
  ]
}